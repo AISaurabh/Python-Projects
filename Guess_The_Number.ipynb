{
  "nbformat": 4,
  "nbformat_minor": 0,
  "metadata": {
    "colab": {
      "provenance": []
    },
    "kernelspec": {
      "name": "python3",
      "display_name": "Python 3"
    },
    "language_info": {
      "name": "python"
    }
  },
  "cells": [
    {
      "cell_type": "code",
      "execution_count": 22,
      "metadata": {
        "colab": {
          "base_uri": "https://localhost:8080/"
        },
        "id": "JpoWfduSc3cA",
        "outputId": "9ab8d653-84da-43db-b6b9-b2667e50bc09"
      },
      "outputs": [
        {
          "output_type": "stream",
          "name": "stdout",
          "text": [
            "Guess the number:50\n",
            "Wrong, please guess lower number\n",
            "Guess the number:30\n",
            "Wrong, please guess lower number\n",
            "Guess the number:15\n",
            "Wrong, please guess higher number\n",
            "Guess the number:20\n",
            "Wrong, please guess lower number\n",
            "Guess the number:16\n",
            "Wrong, please guess higher number\n",
            "Guess the number:18\n",
            "Congratulations!!! You guess correct number\n",
            "The Jackpot number is \u001b[35m \u001b[1m ** 18 ** \u001b[0m\n",
            "Number of Attempts: \u001b[96m \u001b[1m 6 \u001b[0m\n"
          ]
        }
      ],
      "source": [
        "# Random module in python\n",
        "import random\n",
        "jackpot = random.randrange(1,100) # to get random integer range in between 1 to 100\n",
        "\n",
        "guess = int(input(\"Guess the number:\"))\n",
        "Attempts = 1\n",
        "\n",
        "while guess != jackpot:\n",
        "  if guess > jackpot:\n",
        "    print(\"Wrong, please guess lower number\")\n",
        "  else:\n",
        "    print(\"Wrong, please guess higher number\")\n",
        "  guess = int(input(\"Guess the number:\"))\n",
        "  Attempts += 1\n",
        "else:\n",
        "  print(\"Congratulations!!! You guess correct number\")\n",
        "  print(\"The Jackpot number is \\033[35m \\033[1m ** {} ** \\033[0m\".format(jackpot)) # ANSI Escape code\n",
        "  print(\"Number of Attempts: \\033[96m \\033[1m {} \\033[0m\".format(Attempts)) # ANSI Escape code\n",
        "  \n",
        "\n"
      ]
    },
    {
      "cell_type": "code",
      "source": [],
      "metadata": {
        "id": "_upzuKtHdYPK"
      },
      "execution_count": null,
      "outputs": []
    }
  ]
}